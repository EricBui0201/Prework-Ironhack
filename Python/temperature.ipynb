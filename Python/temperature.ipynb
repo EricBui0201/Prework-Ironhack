{
 "cells": [
  {
   "cell_type": "markdown",
   "metadata": {},
   "source": [
    "<img src=\"https://bit.ly/2VnXWr2\" width=\"100\" align=\"left\">"
   ]
  },
  {
   "cell_type": "markdown",
   "metadata": {},
   "source": [
    "# Temperature Sensor\n",
    "\n",
    "There is a temperature sensor in the processor of your company's server. The company wants to analyze the data provided by the sensor to decide if they should change the cooling system for a better one. As changing the cooling system is expensive and you are an excellent data analyst, you can't make a decision without basis.\n",
    "\n",
    "## Tools\n",
    "You don't necessarily need to use all the tools. Maybe you opt to use some of them or completely different ones, they are given to help you shape the exercise. Programming exercises can be solved in many different ways.\n",
    "1. Data structures: **lists**\n",
    "2. Loops: **list comprehension**\n",
    "3. Functions: **min, max, print, len**\n",
    "4. Conditional statements: **if-elif-else**\n",
    "\n",
    "## Tasks\n",
    "The temperatures measured throughout the 24 hours of a day are:"
   ]
  },
  {
   "cell_type": "code",
   "execution_count": 1,
   "metadata": {},
   "outputs": [],
   "source": [
    "temperatures_C = [33, 66, 65, 0, 59, 60, 62, 64, 70, 76, 80, 81, 80, 83, 90, 79, 61, 53, 50, 49, 53, 48, 45, 39]"
   ]
  },
  {
   "cell_type": "markdown",
   "metadata": {},
   "source": [
    "The first element of the list is the temperature at 12am, the second element is the temperature at 1am, and so on. \n",
    "\n",
    "The company has decided that if one of the following events occurs, then the cooling system needs to be replaced for a new one to avoid damaging the processor.\n",
    "* More than 4 temperatures are greater than or equal to 70ºC.\n",
    "* Any temperature is above 80ºC.\n",
    "* The average temperature exceeds 65ºC.\n",
    "\n",
    "Follow the steps so that you can make the decision.\n",
    "\n",
    "#### 1. Find the minimum temperature of the day and store it in a variable."
   ]
  },
  {
   "cell_type": "code",
   "execution_count": 2,
   "metadata": {},
   "outputs": [
    {
     "name": "stdout",
     "output_type": "stream",
     "text": [
      "The minimum temperature C of the day is 0\n"
     ]
    }
   ],
   "source": [
    "min_temp = min(temperatures_C)\n",
    "print(\"The minimum temperature C of the day is\",min_temp)"
   ]
  },
  {
   "cell_type": "markdown",
   "metadata": {},
   "source": [
    "#### 2. Find the maximum temperature of the day and store it in a variable."
   ]
  },
  {
   "cell_type": "code",
   "execution_count": 3,
   "metadata": {},
   "outputs": [
    {
     "name": "stdout",
     "output_type": "stream",
     "text": [
      "The maximum temperature C of the day is 90\n"
     ]
    }
   ],
   "source": [
    "max_temp = max(temperatures_C)\n",
    "print(\"The maximum temperature C of the day is\",max_temp)"
   ]
  },
  {
   "cell_type": "markdown",
   "metadata": {},
   "source": [
    "#### 3. Create a list with the temperatures that are greater than or equal to 70ºC. Store it in a variable."
   ]
  },
  {
   "cell_type": "code",
   "execution_count": 4,
   "metadata": {},
   "outputs": [
    {
     "name": "stdout",
     "output_type": "stream",
     "text": [
      "The list of temperatures that are greater than or equal to 70°C: [70, 76, 80, 81, 80, 83, 90, 79]\n"
     ]
    }
   ],
   "source": [
    "from_70 = []\n",
    "\n",
    "for n in temperatures_C:\n",
    "    if n >= 70:\n",
    "        from_70.append(n)\n",
    "print(\"The list of temperatures that are greater than or equal to 70°C:\",from_70)\n"
   ]
  },
  {
   "cell_type": "markdown",
   "metadata": {},
   "source": [
    "#### 4. Find the average temperature of the day and store it in a variable."
   ]
  },
  {
   "cell_type": "code",
   "execution_count": 5,
   "metadata": {},
   "outputs": [
    {
     "name": "stdout",
     "output_type": "stream",
     "text": [
      "The average temperature C of the day is 60.25\n"
     ]
    }
   ],
   "source": [
    "ave_temp_C = sum(temperatures_C)/len(temperatures_C)\n",
    "print(\"The average temperature C of the day is\",ave_temp_C)"
   ]
  },
  {
   "cell_type": "markdown",
   "metadata": {},
   "source": [
    "#### 5. Imagine that there was a sensor failure at 3am and the data for that specific hour was not recorded. How would you estimate the missing value? Replace the current value of the list at 3am for an estimation. "
   ]
  },
  {
   "cell_type": "code",
   "execution_count": 6,
   "metadata": {},
   "outputs": [
    {
     "name": "stdout",
     "output_type": "stream",
     "text": [
      "The estimated temperature at 3am is 53\n",
      "The new list of temperature C: [33, 66, 65, 53, 59, 60, 62, 64, 70, 76, 80, 81, 80, 83, 90, 79, 61, 53, 50, 49, 53, 48, 45, 39]\n"
     ]
    }
   ],
   "source": [
    "#The temperature is relatively stable between 1am to 7am and start increasing from 8am as it is the begining of working hours. \n",
    "#Thus, it is relatively reasonable to consider the mean of the values from 1am to 7pm  as the temperature at 3am.\n",
    "\n",
    "temp_at_3am = int(sum(temperatures_C[1:8])/len(temperatures_C[1:8]))\n",
    "print(\"The estimated temperature at 3am is\",temp_at_3am)\n",
    "\n",
    "temperatures_C[3] = temp_at_3am\n",
    "print(\"The new list of temperature C:\",temperatures_C)"
   ]
  },
  {
   "cell_type": "markdown",
   "metadata": {},
   "source": [
    "#### 6. Bonus: the maintenance staff is from the United States and does not understand the international metric system. Help them by converting the temperatures from Celsius to Fahrenheit.\n",
    "To know more about temperature conversion check this [link](https://en.wikipedia.org/wiki/Conversion_of_units_of_temperature).\n",
    "\n",
    "**Formula**: \n",
    "\n",
    "$F = 1.8 * C + 32$"
   ]
  },
  {
   "cell_type": "code",
   "execution_count": 7,
   "metadata": {},
   "outputs": [
    {
     "name": "stdout",
     "output_type": "stream",
     "text": [
      "The list of temperatures F: [91, 150, 149, 127, 138, 140, 143, 147, 158, 168, 176, 177, 176, 181, 194, 174, 141, 127, 122, 120, 127, 118, 113, 102]\n"
     ]
    }
   ],
   "source": [
    "temperatures_F = []\n",
    "\n",
    "def conversionF(a):\n",
    "    return 1.8*a+32\n",
    "\n",
    "for n in temperatures_C:\n",
    "    x = int(conversionF(n))\n",
    "    temperatures_F.append(x)\n",
    "\n",
    "print(\"The list of temperatures F:\",temperatures_F)"
   ]
  },
  {
   "cell_type": "markdown",
   "metadata": {},
   "source": [
    "#### 7. Make a decision!\n",
    "Now it's time to make a decision taking into account what you have seen until now. \n",
    "\n",
    "Remember that if one of the following events occurs, then the cooling system needs to be replaced for a new one to avoid damaging the processor.\n",
    "* More than 4 temperatures are greater than or equal to 70ºC.\n",
    "* Any temperature is above 80ºC.\n",
    "* The average temperature exceeds 65ºC.\n",
    "\n",
    "#### To make your decision, check if any of the three conditions above is met. You might need to use some of the variables you created in steps 1 to 6. Print a message to show if the cooling system needs to be changed or not."
   ]
  },
  {
   "cell_type": "code",
   "execution_count": 8,
   "metadata": {},
   "outputs": [
    {
     "name": "stdout",
     "output_type": "stream",
     "text": [
      "The cooling system needs to be replaced\n"
     ]
    }
   ],
   "source": [
    "from_80 =[]        #list of temperature values which are greater than 80°C\n",
    "for n in from_70:\n",
    "    if n>80:\n",
    "        from_80.append(n)\n",
    "\n",
    "if ave_temp_C > 65 or len(from_70) >=4 or len(from_80)>0:\n",
    "    print(\"The cooling system needs to be replaced\")\n",
    "else:\n",
    "    print(\"The cooling system doesn't need to be replaced\")\n"
   ]
  },
  {
   "cell_type": "markdown",
   "metadata": {},
   "source": [
    "## Bonus\n",
    "\n",
    "The company has decided that the decision you made is not valid. They want you to analyze the data again but this time, the conditions that need to be met in order to change the cooling system are different.\n",
    "\n",
    "This time, if one of the following events occurs, then the cooling system needs to be replaced:\n",
    "* The temperature is greater than 70ºC during more than 4 consecutive hours.\n",
    "* Any temperature is above 80ºC.\n",
    "* The average temperature exceeds 65ºC.\n",
    "\n",
    "Follow the steps so that you can make the decision.\n",
    "\n",
    "#### 1. Create a list with the hours where the temperature is greater than 70ºC. Store it in a variable."
   ]
  },
  {
   "cell_type": "code",
   "execution_count": 9,
   "metadata": {},
   "outputs": [
    {
     "name": "stdout",
     "output_type": "stream",
     "text": [
      "The list of hours where the temperature is greater than 70°C: [8, 9, 10, 11, 12, 13, 14, 15]\n"
     ]
    }
   ],
   "source": [
    "hours_from70C = []\n",
    "\n",
    "for n,i in enumerate(temperatures_C):\n",
    "    if i >= 70:\n",
    "        hours_from70C.append(n)\n",
    "print(\"The list of hours where the temperature is greater than 70°C:\",hours_from70C)"
   ]
  },
  {
   "cell_type": "markdown",
   "metadata": {},
   "source": [
    "#### 2. Check if the list you created in step 1 has more than 4 consecutive hours. "
   ]
  },
  {
   "cell_type": "code",
   "execution_count": 10,
   "metadata": {},
   "outputs": [],
   "source": [
    "hours_consecutive = False        \n",
    "\n",
    "for n in range(len(hours_from70C)):\n",
    "    if n < len(hours_from70C)-3:\n",
    "        x = hours_from70C[n]\n",
    "        y = hours_from70C[n+3] \n",
    "        if y - x == 3:\n",
    "            hours_consecutive = True\n",
    "            break\n",
    "        "
   ]
  },
  {
   "cell_type": "markdown",
   "metadata": {},
   "source": [
    "#### 3. Make the decision!\n",
    "To make your decision, check if any of the three conditions is met. Print a message to show if the cooling system needs to be changed or not."
   ]
  },
  {
   "cell_type": "code",
   "execution_count": 11,
   "metadata": {},
   "outputs": [
    {
     "name": "stdout",
     "output_type": "stream",
     "text": [
      "The cooling system needs to be replaced\n"
     ]
    }
   ],
   "source": [
    "if ave_temp_C > 65 or hours_consecutive or len(from_80)>0:\n",
    "    print(\"The cooling system needs to be replaced\")\n",
    "else:\n",
    "    print(\"The cooling system doesn't need to be replaced\")\n"
   ]
  },
  {
   "cell_type": "markdown",
   "metadata": {},
   "source": [
    "#### 4. Find the average value of the temperature lists (ºC and ºF). What is the relation between both average values?"
   ]
  },
  {
   "cell_type": "code",
   "execution_count": 12,
   "metadata": {},
   "outputs": [
    {
     "name": "stdout",
     "output_type": "stream",
     "text": [
      "The average of temperature F is: 144.12\n",
      "The average of temperature C is: 62.46\n",
      "The average of temperature in °F converted from  the average of intemperature in °C is 144.43\n",
      "Conclusion: The average of temperature in °F converted from the one in °C is relatively the same as the value calculated from the list of temperature °F\n"
     ]
    }
   ],
   "source": [
    "ave_temp_C = sum(temperatures_C)/len(temperatures_C)\n",
    "\n",
    "ave_temp_F = sum(temperatures_F)/len(temperatures_F)\n",
    "print(\"The average of temperature F is:\",round(ave_temp_F,2))\n",
    "print(\"The average of temperature C is:\",round(ave_temp_C,2))\n",
    "\n",
    "print(\"The average of temperature in °F converted from  the average of intemperature in °C is\",round(conversionF(ave_temp_C),2))\n",
    "\n",
    "print(\"Conclusion: The average of temperature in °F converted from the one in °C is relatively the same as the value calculated from the list of temperature °F\")"
   ]
  },
  {
   "cell_type": "markdown",
   "metadata": {},
   "source": [
    "#### 5. Find the standard deviation of the temperature lists (ºC and ºF). What is the relation between both standard deviations?"
   ]
  },
  {
   "cell_type": "code",
   "execution_count": 14,
   "metadata": {},
   "outputs": [
    {
     "name": "stdout",
     "output_type": "stream",
     "text": [
      "The standard deviation of the temperature list C is 14.76\n",
      "The standard deviation of the temperature list F is 26.57\n",
      "The standard deviation of temperature in °F converted from the standard deviation of temperature in °C is 58.58\n",
      "Conclusion: The standard deviation of temperature in °F converted from the one in °C is more than the value in °F calculated from the list of temperature F\n"
     ]
    }
   ],
   "source": [
    "y=0\n",
    "for i in temperatures_C:\n",
    "    x = (i - ave_temp_C)**2\n",
    "    y += x\n",
    "\n",
    "var_C = y/len(temperatures_C)\n",
    "import math\n",
    "std_dev_C = math.sqrt(var_C)\n",
    "print(\"The standard deviation of the temperature list C is\",round(std_dev_C,2))\n",
    "\n",
    "l=0\n",
    "for n in temperatures_F:\n",
    "    k = (n - ave_temp_F)**2\n",
    "    l += k\n",
    "var_F = l/len(temperatures_F)\n",
    "std_dev_F = math.sqrt(var_F)\n",
    "print(\"The standard deviation of the temperature list F is\",round(std_dev_F,2))\n",
    "\n",
    "print(\"The standard deviation of temperature in °F converted from the standard deviation of temperature in °C is\",round(conversionF(std_dev_C),2))\n",
    "\n",
    "print(\"Conclusion: The standard deviation of temperature in °F converted from the one in °C is more than the value in °F calculated from the list of temperature F\")"
   ]
  }
 ],
 "metadata": {
  "kernelspec": {
   "display_name": "Python 3",
   "language": "python",
   "name": "python3"
  },
  "language_info": {
   "codemirror_mode": {
    "name": "ipython",
    "version": 3
   },
   "file_extension": ".py",
   "mimetype": "text/x-python",
   "name": "python",
   "nbconvert_exporter": "python",
   "pygments_lexer": "ipython3",
   "version": "3.7.6"
  }
 },
 "nbformat": 4,
 "nbformat_minor": 2
}
