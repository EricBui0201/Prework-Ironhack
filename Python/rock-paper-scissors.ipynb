{
 "cells": [
  {
   "cell_type": "markdown",
   "metadata": {},
   "source": [
    "<img src=\"https://bit.ly/2VnXWr2\" width=\"100\" align=\"left\">"
   ]
  },
  {
   "cell_type": "markdown",
   "metadata": {},
   "source": [
    "# Rock, Paper & Scissors\n",
    "\n",
    "Let's play the famous game against our computer. You can check the rules [here](https://en.wikipedia.org/wiki/Rock%E2%80%93paper%E2%80%93scissors). \n",
    "\n",
    "## Task\n",
    "Create a program that imitates the playability of the well known game of rock, paper, scissors. Follow the guidelines provided.\n",
    "\n",
    "## Tools\n",
    "1. Loop: **for/while**\n",
    "2. Functions: **input(), print()...**\n",
    "3. Conditional statements: **if, elif, else**\n",
    "4. Definition of functions. Modular programming\n",
    "5. Import modules\n",
    "\n",
    "**To solve this challenge, the use of functions is recommended.**\n",
    "\n",
    "#### 1. Import the choice function of the random module."
   ]
  },
  {
   "cell_type": "code",
   "execution_count": null,
   "metadata": {},
   "outputs": [],
   "source": [
    "#Please refer to the question 10"
   ]
  },
  {
   "cell_type": "markdown",
   "metadata": {},
   "source": [
    "#### 2. Create a list that includes the 3 possible gesture options of the game: 'rock', 'paper' or 'scissors'. Store the list in a variable called `gestures`."
   ]
  },
  {
   "cell_type": "code",
   "execution_count": null,
   "metadata": {},
   "outputs": [],
   "source": [
    "#Please refer to the question 10"
   ]
  },
  {
   "cell_type": "markdown",
   "metadata": {},
   "source": [
    "#### 3. Create a variable called `n_rounds` to store the maximum number of rounds to play in a game. \n",
    "Remember that the number of rounds must be odd: 1, 3, 5, ..."
   ]
  },
  {
   "cell_type": "code",
   "execution_count": null,
   "metadata": {},
   "outputs": [],
   "source": [
    "#Please refer to the question 10"
   ]
  },
  {
   "cell_type": "markdown",
   "metadata": {},
   "source": [
    "#### 4. Create a variable called `rounds_to_win` to store the number of rounds that a player must win to win the game.\n",
    "**Hint**: the value stored in `rounds_to_win` depends on the value of `n_rounds`. "
   ]
  },
  {
   "cell_type": "code",
   "execution_count": null,
   "metadata": {},
   "outputs": [],
   "source": [
    "#Please refer to the question 10"
   ]
  },
  {
   "cell_type": "markdown",
   "metadata": {},
   "source": [
    "#### 5. Create two variables to store the number of rounds that the computer and the player have won. Call these variables `cpu_score` and `player_score`."
   ]
  },
  {
   "cell_type": "code",
   "execution_count": null,
   "metadata": {},
   "outputs": [],
   "source": [
    "#Please refer to the question 10"
   ]
  },
  {
   "cell_type": "markdown",
   "metadata": {},
   "source": [
    "#### 6. Define a function that randomly returns one of the 3 gesture options.\n",
    "You will use this function to simulate the gesture choice of the computer. "
   ]
  },
  {
   "cell_type": "code",
   "execution_count": null,
   "metadata": {},
   "outputs": [],
   "source": [
    "#Please refer to the question 10"
   ]
  },
  {
   "cell_type": "markdown",
   "metadata": {},
   "source": [
    "#### 7. Define a function that asks the player which is the gesture he or she wants to show: 'rock', 'paper' or 'scissors'.\n",
    "The player should only be allowed to choose one of the 3 gesture options. If the player's choice is not rock, paper or scissors, keep asking until it is."
   ]
  },
  {
   "cell_type": "code",
   "execution_count": null,
   "metadata": {},
   "outputs": [],
   "source": [
    "#Please refer to the question 10"
   ]
  },
  {
   "cell_type": "markdown",
   "metadata": {},
   "source": [
    "#### 8. Define a function that checks who won a round. \n",
    "The function should return 0 if there is a tie, 1 if the computer wins and 2 if the player wins."
   ]
  },
  {
   "cell_type": "code",
   "execution_count": null,
   "metadata": {},
   "outputs": [],
   "source": [
    "#Please refer to the question 10"
   ]
  },
  {
   "cell_type": "markdown",
   "metadata": {},
   "source": [
    "#### 9. Define a function that prints the choice of the computer, the choice of the player and a message that announces who won the current round. \n",
    "You should also use this function to update the variables that count the number of rounds that the computer and the player have won. The score of the winner increases by one point. If there is a tie, the score does not increase."
   ]
  },
  {
   "cell_type": "code",
   "execution_count": null,
   "metadata": {},
   "outputs": [],
   "source": [
    "#Please refer to the question 10"
   ]
  },
  {
   "cell_type": "markdown",
   "metadata": {},
   "source": [
    "#### 10. Now it's time to code the execution of the game using the functions and variables you defined above. \n",
    "\n",
    "First, create a loop structure that repeats while no player reaches the minimum score necessary to win and the number of rounds is less than the maximum number of rounds to play in a game.  \n",
    "\n",
    "Inside the loop, use the functions and variables above to create the execution of a round: ask for the player's choice, generate the random choice of the computer, show the round results, update the scores, etc. "
   ]
  },
  {
   "cell_type": "code",
   "execution_count": 5,
   "metadata": {},
   "outputs": [
    {
     "name": "stdout",
     "output_type": "stream",
     "text": [
      "Please indicate an odd number which is the total of rounds that you want to play\n",
      "3\n",
      "What is your choice?\n",
      "rock\n",
      "My choice is rock\n",
      "The computer choice is paper\n",
      "Computer wins\n",
      "The cumulated results until this round are: Computer wins: 1 and Player wins 0\n",
      "\n",
      "What is your choice?\n",
      "pap\n",
      "My choice is pap\n",
      "Your choice is not valid. Please reselect!\n",
      "What is your choice?\n",
      "paper\n",
      "My choice is paper\n",
      "The computer choice is paper\n",
      "It is a tie\n",
      "Computer wins\n",
      "The cumulated results until this round are: Computer wins: 2 and Player wins 0\n",
      "\n",
      "Computer wins the whole game\n",
      "\n",
      "Wanna try again ? Y/N\n",
      "n\n"
     ]
    }
   ],
   "source": [
    "import random\n",
    "\n",
    "while True:\n",
    "    print(\"Please indicate an odd number which is the total of rounds that you want to play\")\n",
    "    n_rounds = int(input())\n",
    "\n",
    "    while (n_rounds % 2) == 0:\n",
    "        print(\"Please indicate an odd number which is the total of rounds that you want to play\")\n",
    "        n_rounds = int(input())\n",
    "\n",
    "\n",
    "    rounds_to_win = (n_rounds - 1)/2 + 1\n",
    "\n",
    "    computer_score = 0\n",
    "    player_score = 0    \n",
    "\n",
    "    while computer_score < rounds_to_win and player_score < rounds_to_win:\n",
    "\n",
    "        print(\"What is your choice?\")\n",
    "        player_choice = input()\n",
    "        player_choice = player_choice.lower()      #to avoid the error when users use uppercase.\n",
    "        print(\"My choice is\",player_choice)\n",
    "\n",
    "        gestures = ['rock','paper','scissors']\n",
    "        \n",
    "\n",
    "        if player_choice in gestures:                #to avoid the error when the users' choices are not one of the 3 options.\n",
    "\n",
    "            computer_choice = random.choice(gestures)\n",
    "            print(\"The computer choice is\",computer_choice)\n",
    "            \n",
    "            if player_choice == computer_choice:\n",
    "                print(\"It is a tie\")\n",
    "            if player_choice == 'rock':\n",
    "                if computer_choice =='scissors':\n",
    "                    player_score += 1\n",
    "                    print(\"Player wins\")\n",
    "                else:\n",
    "                    computer_score += 1\n",
    "                    print(\"Computer wins\")\n",
    "            if player_choice == 'paper':\n",
    "                if computer_choice =='rock':\n",
    "                    player_score += 1\n",
    "                    print(\"Player wins\")\n",
    "                else:\n",
    "                    computer_score += 1\n",
    "                    print(\"Computer wins\")\n",
    "            if player_choice == 'scissors':\n",
    "                if computer_choice =='paper':\n",
    "                    player_score += 1\n",
    "                    print(\"Player wins\")\n",
    "                else:\n",
    "                    computer_score += 1\n",
    "                    print(\"Computer wins\")\n",
    "            print(\"The cumulated results until this round are:\",\"Computer wins:\",computer_score,\"and Player wins\",player_score)\n",
    "            print()\n",
    "\n",
    "        else:\n",
    "            print(\"Your choice is not valid. Please reselect!\")        \n",
    "\n",
    "    if computer_score == rounds_to_win:\n",
    "        print(\"Computer wins the whole game\")\n",
    "\n",
    "    elif player_score == rounds_to_win:\n",
    "        print(\"Player wins the whole game\")\n",
    "        \n",
    "    print()\n",
    "    print(\"Wanna try again ? Y/N\")      #to allow players to decide to continue to play or not after finishing the whole rounds\n",
    "    if input().lower() == 'n':\n",
    "        break"
   ]
  },
  {
   "cell_type": "markdown",
   "metadata": {},
   "source": [
    "#### 11. Print the winner of the game based on who won more rounds.\n",
    "Remember that the game might be tied. "
   ]
  },
  {
   "cell_type": "code",
   "execution_count": null,
   "metadata": {},
   "outputs": [],
   "source": [
    "#Please refer to the question 10"
   ]
  },
  {
   "cell_type": "markdown",
   "metadata": {},
   "source": [
    "# Bonus: Rock, Paper, Scissors, Lizard & Spock\n",
    "![](images/rpsls.jpg)\n",
    "\n",
    "In this challenge, you need to improve the previous game by adding two new options. To know more about the rules of the improved version of rock, paper, scissors, check this [link](http://www.samkass.com/theories/RPSSL.html). \n",
    "\n",
    "In addition, you will also need to improve how the game interacts with the player: the number of rounds to play, which must be an odd number, will be requested to the user until a valid number is entered. Define a new function to make that request.\n",
    "\n",
    "**Hint**: Try to reuse the code that you already coded in the previous challenge. If your code is efficient, this bonus will only consist of simple modifications to the original game."
   ]
  },
  {
   "cell_type": "code",
   "execution_count": 4,
   "metadata": {},
   "outputs": [
    {
     "name": "stdout",
     "output_type": "stream",
     "text": [
      "Please indicate an odd number which is the total of rounds that you want to play\n",
      "3\n",
      "What is your choice?\n",
      "paper\n",
      "My choice is paper\n",
      "The computer choice is spock\n",
      "User wins\n",
      "The cumulated results until this round are: Computer wins: 0 and Player wins 1\n",
      "\n",
      "What is your choice?\n",
      "pap\n",
      "My choice is pap\n",
      "Your choice is not valid. Please try again!\n",
      "\n",
      "What is your choice?\n",
      "paper\n",
      "My choice is paper\n",
      "The computer choice is scissors\n",
      "Computer wins\n",
      "The cumulated results until this round are: Computer wins: 1 and Player wins 1\n",
      "\n",
      "What is your choice?\n",
      "rock\n",
      "My choice is rock\n",
      "The computer choice is paper\n",
      "Computer wins\n",
      "The cumulated results until this round are: Computer wins: 2 and Player wins 1\n",
      "\n",
      "Computer wins the whole game\n",
      "\n",
      "Wanna play again ? Y/N\n",
      "n\n"
     ]
    }
   ],
   "source": [
    "import random\n",
    "\n",
    "while True:\n",
    "    \n",
    "    print(\"Please indicate an odd number which is the total of rounds that you want to play\")\n",
    "    n_rounds = int(input())\n",
    "\n",
    "    while (n_rounds % 2) == 0:\n",
    "        print(\"Please indicate an odd number which is the total of rounds that you want to play\")\n",
    "        n_rounds = int(input())\n",
    "\n",
    "\n",
    "    rounds_to_win = (n_rounds - 1)/2 + 1\n",
    "\n",
    "    computer_score = 0\n",
    "    player_score = 0    \n",
    "\n",
    "    while computer_score < rounds_to_win and player_score < rounds_to_win:\n",
    "\n",
    "        print(\"What is your choice?\")\n",
    "        player_choice = input()\n",
    "        player_choice = player_choice.lower()      #to avoid the error when users use uppercase.\n",
    "        print(\"My choice is\",player_choice)\n",
    "\n",
    "        gestures = ['rock','paper','scissors','spock','lizard']\n",
    "        \n",
    "\n",
    "        if player_choice in gestures:                #to avoid the error when the users' choices are not one of the 5 options.\n",
    "            \n",
    "            computer_choice = random.choice(gestures)\n",
    "            print(\"The computer choice is\",computer_choice)\n",
    "            \n",
    "            choice_dict = {'rock':0,'paper':1,'scissors':2,'spock':3,'lizard':4}\n",
    "            \n",
    "            player_index = choice_dict.get(player_choice)\n",
    "            \n",
    "            computer_index = choice_dict.get(computer_choice)\n",
    "            \n",
    "            #This is the matrix of results built up from the combination of computer choices (horirontal axe) and user choices (vertical axe) \n",
    "            #with the same order of choices (Refer to the list \"gestures\")\n",
    "            result_matrix = [[0,2,1,2,1],\n",
    "                             [1,0,2,1,2],\n",
    "                             [2,1,0,2,1],\n",
    "                             [1,2,1,0,2],\n",
    "                             [2,1,2,1,0]]            \n",
    "            #Element's meaning: 0 = It is a tie, 1 = User wins, 2 = Computer wins \n",
    "            \n",
    "            matrix_index = result_matrix[player_index][computer_index]\n",
    "            \n",
    "            index_messages = [\"It is a tie\",\"User wins\",\"Computer wins\"]\n",
    "            \n",
    "            result = index_messages[matrix_index]\n",
    "            if result == \"User wins\":\n",
    "                print(result)\n",
    "                player_score += 1\n",
    "            elif result == \"Computer wins\":\n",
    "                print(result)\n",
    "                computer_score += 1\n",
    "            \n",
    "            print(\"The cumulated results until this round are:\",\"Computer wins:\",computer_score,\"and Player wins\",player_score)\n",
    "            print()\n",
    "\n",
    "        else:\n",
    "            print(\"Your choice is not valid. Please try again!\")\n",
    "            print()\n",
    "\n",
    "    if computer_score == rounds_to_win:\n",
    "        print(\"Computer wins the whole game\")\n",
    "        \n",
    "    elif player_score == rounds_to_win:\n",
    "        print(\"Player wins the whole game\")\n",
    "    \n",
    "    print()\n",
    "    print(\"Wanna play again ? Y/N\")      #to allow players to decide to continue to play or not after finishing the whole rounds\n",
    "    if input().lower() == 'n':\n",
    "        break"
   ]
  }
 ],
 "metadata": {
  "kernelspec": {
   "display_name": "Python 3",
   "language": "python",
   "name": "python3"
  },
  "language_info": {
   "codemirror_mode": {
    "name": "ipython",
    "version": 3
   },
   "file_extension": ".py",
   "mimetype": "text/x-python",
   "name": "python",
   "nbconvert_exporter": "python",
   "pygments_lexer": "ipython3",
   "version": "3.7.6"
  }
 },
 "nbformat": 4,
 "nbformat_minor": 2
}
