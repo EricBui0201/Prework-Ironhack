{
 "cells": [
  {
   "cell_type": "markdown",
   "metadata": {},
   "source": [
    "<img src=\"https://bit.ly/2VnXWr2\" width=\"100\" align=\"left\"/>"
   ]
  },
  {
   "cell_type": "markdown",
   "metadata": {},
   "source": [
    "# Robin Hood\n",
    "Robin Hood has entered a competition to win the archery contest in Sherwood. With his bow and arrows, he needs to shoot on a target and try to hit as close as possible to the center.\n",
    "\n",
    "![](images/arrows.jpg)\n",
    "\n",
    "## Context\n",
    "In this challenge, the landing position of arrows shot by archers in the competition will be represented using 2-dimensional coordinates. \n",
    "\n",
    "In the 2-dimensional space, a point can be defined by a pair of values that correspond to the horizontal coordinate (x) and the vertical coordinate (y). For example, in our case, an arrow that hits the center of the archery target will land in position (0, 0) on the coordinate axes. \n",
    "\n",
    "The space can be divided into 4 zones (quadrants): Q1, Q2, Q3, Q4. If a point is in Q1, both its x coordinate and y coordinate are positive. Any point with a null x or y coordinate is considered to not belong to any quadrant. \n",
    "\n",
    "If you want to know more about the cartesian coordinate system, you can check this [link](https://en.wikipedia.org/wiki/Cartesian_coordinate_system). \n",
    "\n",
    "## Tools\n",
    "You don't necessarily need to use all the tools. Maybe you opt to use some of them or completely different ones, they are given to help you shape the exercise. Programming exercises can be solved in many different ways.\n",
    "* Data structures: **lists, sets, tuples**\n",
    "* Conditional statements: **if-elif-else**\n",
    "* Loop: **while/for**\n",
    "* Minimum (optional sorting)\n",
    "\n",
    "## Tasks\n",
    "Robin Hood has hit the following points:"
   ]
  },
  {
   "cell_type": "code",
   "execution_count": 1,
   "metadata": {},
   "outputs": [],
   "source": [
    "    points = [(4, 5), (-0, 2), (4, 7), (1, -3), (3, -2), (4, 5), (3, 2), (5, 7), (-5, 7), (2, 2), (-4, 5), (0, -2),\n",
    "              (-4, 7), (-1, 3), (-3, 2), (-4, -5), (-3, 2), (5, 7), (5, 7), (2, 2), (9, 9), (-8, -9)]"
   ]
  },
  {
   "cell_type": "markdown",
   "metadata": {},
   "source": [
    "#### 1. Robin Hood is famous for hitting an arrow with another arrow. Find the coordinates of the points where an arrow hits another arrow."
   ]
  },
  {
   "cell_type": "code",
   "execution_count": 3,
   "metadata": {},
   "outputs": [
    {
     "name": "stdout",
     "output_type": "stream",
     "text": [
      "the coordinates of the points where an arrow hits another arrow are [(4, 5), (5, 7), (2, 2), (-3, 2)]\n"
     ]
    }
   ],
   "source": [
    "repeated = []\n",
    "\n",
    "for i in range(len(points)):\n",
    "    k = i + 1\n",
    "    for k in range(k,len(points)):\n",
    "        if points[i] == points[k] and points[i] not in repeated:\n",
    "            repeated.append(points[i])\n",
    "print(\"the coordinates of the points where an arrow hits another arrow are\",repeated)"
   ]
  },
  {
   "cell_type": "markdown",
   "metadata": {},
   "source": [
    "#### 2. Calculate how many arrows have fallen in each quadrant. \n",
    "**Note**: the arrows that fall in the axis (x=0 or y=0) don't belong to any quadrant."
   ]
  },
  {
   "cell_type": "code",
   "execution_count": 4,
   "metadata": {},
   "outputs": [
    {
     "name": "stdout",
     "output_type": "stream",
     "text": [
      "The number of hits in quadrant 1:  10\n",
      "The number of hits in quadrant 2:  6\n",
      "The number of hits in quadrant 3:  2\n",
      "The number of hits in quadrant 4:  2\n"
     ]
    }
   ],
   "source": [
    "\n",
    "quadrant_1 =[]      #when x > 0 and y > 0\n",
    "quadrant_2 =[]\n",
    "quadrant_3 =[]\n",
    "quadrant_4 =[]      #when x > 0 and y < 0\n",
    "not_belong_to_quadrant = []\n",
    "\n",
    "nb_hits = len(points)\n",
    "\n",
    "for n in range(nb_hits):\n",
    "    if points[n][0] > 0 and points[n][1] > 0:\n",
    "        quadrant_1.append(points[n])\n",
    "    elif points[n][0] < 0 and points[n][1] > 0:\n",
    "        quadrant_2.append(points[n])\n",
    "    elif points[n][0] < 0 and points[n][1] < 0:\n",
    "        quadrant_3.append(points[n])\n",
    "    elif points[n][0] > 0 and points[n][1] < 0:\n",
    "        quadrant_4.append(points[n])\n",
    "    else:\n",
    "        not_belong_to_quadrant.append(points[n])\n",
    "print(\"The number of hits in quadrant 1: \",len(quadrant_1))\n",
    "print(\"The number of hits in quadrant 2: \",len(quadrant_2))\n",
    "print(\"The number of hits in quadrant 3: \",len(quadrant_3))\n",
    "print(\"The number of hits in quadrant 4: \",len(quadrant_4))"
   ]
  },
  {
   "cell_type": "markdown",
   "metadata": {},
   "source": [
    "#### 3. Find the point closest to the center. Calculate its distance to the center. \n",
    "Take into account that there might be more than one point at the minimum distance to the center.\n",
    "\n",
    "**Hint**: Use the Euclidean distance. You can find more information about it [here](https://en.wikipedia.org/wiki/Euclidean_distance).  \n",
    "**Hint**: Defining a function that calculates the distance to the center can help."
   ]
  },
  {
   "cell_type": "code",
   "execution_count": 7,
   "metadata": {},
   "outputs": [
    {
     "name": "stdout",
     "output_type": "stream",
     "text": [
      "The point closest to the center: (0, -2)\n",
      "The point closest to the center: (0, 2)\n"
     ]
    }
   ],
   "source": [
    "points_unique = list(set(points))      \n",
    "#I remove all duplicate elements from the new list\n",
    "#because, I will use the index of the min distance to find the corresponding coordinates.\n",
    "\n",
    "dist_to_center = []\n",
    "\n",
    "def distance(a,b):\n",
    "    x = math.sqrt(a**2 + b**2)\n",
    "    return x\n",
    "\n",
    "import math\n",
    "for n in range(len(points_unique)):\n",
    "    x = distance(points_unique[n][0],points_unique[n][1])\n",
    "    dist_to_center.append(x)\n",
    "\n",
    "l = min(dist_to_center)\n",
    "\n",
    "for n,i in enumerate(dist_to_center):\n",
    "    if i == l:\n",
    "        print(\"The point closest to the center:\",points_unique[n])"
   ]
  },
  {
   "cell_type": "markdown",
   "metadata": {},
   "source": [
    "#### 4. If the archery target has a radius of 9, calculate the number of arrows that won't hit the target. \n",
    "**Hint**: Use the function created in step 3. "
   ]
  },
  {
   "cell_type": "code",
   "execution_count": 8,
   "metadata": {},
   "outputs": [
    {
     "name": "stdout",
     "output_type": "stream",
     "text": [
      "The number of arrows that didn't hit the target: 2\n"
     ]
    }
   ],
   "source": [
    "miss =[]\n",
    "for n in range(len(points)):\n",
    "    x = distance(points[n][0],points[n][1])\n",
    "    if x > 9:\n",
    "        miss.append(x)\n",
    "print(\"The number of arrows that didn't hit the target:\",len(miss))"
   ]
  }
 ],
 "metadata": {
  "kernelspec": {
   "display_name": "Python 3",
   "language": "python",
   "name": "python3"
  },
  "language_info": {
   "codemirror_mode": {
    "name": "ipython",
    "version": 3
   },
   "file_extension": ".py",
   "mimetype": "text/x-python",
   "name": "python",
   "nbconvert_exporter": "python",
   "pygments_lexer": "ipython3",
   "version": "3.7.6"
  }
 },
 "nbformat": 4,
 "nbformat_minor": 2
}
